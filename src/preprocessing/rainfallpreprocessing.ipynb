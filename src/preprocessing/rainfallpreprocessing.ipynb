{
 "cells": [
  {
   "cell_type": "code",
   "execution_count": null,
   "id": "35840305",
   "metadata": {},
   "outputs": [],
   "source": [
    "import pandas as pd\n",
    "import glob\n",
    "import os\n",
    "import matplotlib.pyplot as plt"
   ]
  },
  {
   "cell_type": "code",
   "execution_count": null,
   "id": "90bd5c04",
   "metadata": {},
   "outputs": [],
   "source": [
    "folder_path = \"../data/\"\n",
    "\n",
    "file_paths = sorted(glob.glob(os.path.join(folder_path, \"rainfall*.txt\")))\n",
    "\n",
    "all_data = []\n",
    "\n",
    "for file_path in file_paths:\n",
    "    df = pd.read_csv(\n",
    "        file_path,\n",
    "        comment=\"#\",\n",
    "        header=None,\n",
    "        names=[\"station\", \"date\", \"rainfall\"],\n",
    "        na_values=[\" \", \"\", \"NaN\"],\n",
    "    )\n",
    "    # Convert to numeric\n",
    "    df[\"rainfall\"] = pd.to_numeric(df[\"rainfall\"], errors=\"coerce\")\n",
    "    # Only keep valid rows\n",
    "    df = df.dropna(subset=[\"rainfall\"])\n",
    "    # Convert to mm (before was 0.1 mm)\n",
    "    df[\"rainfall\"] = df[\"rainfall\"] * 10.0\n",
    "\n",
    "    # Convert date to string and extract YYYY-MM\n",
    "    df[\"date\"] = df[\"date\"].astype(str)\n",
    "    df[\"date_datetime\"] = pd.to_datetime(df[\"date\"])\n",
    "    df[\"year_month\"] = df[\"date_datetime\"].dt.strftime(\"%Y-%m\")\n",
    "\n",
    "    all_data.append(df)\n",
    "\n",
    "# Combine all data\n",
    "combined = pd.concat(all_data)\n",
    "\n",
    "monthly_avg = combined.groupby(combined[\"year_month\"])[\"rainfall\"].mean().reset_index()\n",
    "\n",
    "output_path = os.path.join(folder_path, \"monthly_national_avg_rainfall.csv\")\n",
    "monthly_avg.to_csv(output_path, index=False)\n",
    "#\n",
    "print(f\"Saved monthly averages to: {output_path}\")"
   ]
  },
  {
   "cell_type": "code",
   "execution_count": null,
   "id": "c6113e40",
   "metadata": {},
   "outputs": [],
   "source": [
    "folder_path = \"\"\n",
    "output_path = os.path.join(folder_path, \"monthly_national_avg_rainfall.csv\")\n",
    "monthly_avg.to_csv(output_path, index=False)"
   ]
  },
  {
   "cell_type": "code",
   "execution_count": null,
   "id": "45c64137",
   "metadata": {},
   "outputs": [],
   "source": [
    "pd.to_datetime(combined[\"date\"]).dt.strftime(\"%Y-%m\").unique()"
   ]
  },
  {
   "cell_type": "code",
   "execution_count": null,
   "id": "9faeeca3",
   "metadata": {
    "lines_to_next_cell": 2
   },
   "outputs": [],
   "source": [
    "monthly_avg"
   ]
  },
  {
   "cell_type": "code",
   "execution_count": null,
   "id": "b17face8",
   "metadata": {},
   "outputs": [],
   "source": [
    "%matplotlib inline"
   ]
  },
  {
   "cell_type": "code",
   "execution_count": null,
   "id": "9903b391",
   "metadata": {
    "lines_to_next_cell": 0
   },
   "outputs": [],
   "source": [
    "df = pd.read_csv(\"../data/monthly_national_avg_rainfall.csv\")\n",
    "\n",
    "\n",
    "df[\"year_month\"] = pd.to_datetime(df[\"year_month\"], format=\"%Y-%m\")\n",
    "\n",
    "\n",
    "plt.figure(figsize=(12, 6))\n",
    "plt.plot(df[\"year_month\"], df[\"rainfall\"], marker=\"o\", linestyle=\"-\")\n",
    "\n",
    "\n",
    "plt.title(\"Monthly Average Rainfall in the Netherlands (2019–2025)\", fontsize=14)\n",
    "plt.xlabel(\"Month\", fontsize=12)\n",
    "plt.ylabel(\"Wind Speed (m/s)\", fontsize=12)\n",
    "plt.grid(True)\n",
    "plt.tight_layout()\n",
    "\n",
    "plt.show()"
   ]
  },
  {
   "cell_type": "markdown",
   "id": "7922cc4f",
   "metadata": {},
   "source": []
  }
 ],
 "metadata": {
  "kernelspec": {
   "display_name": "Python 3",
   "language": "python",
   "name": "python3"
  }
 },
 "nbformat": 4,
 "nbformat_minor": 5
}
